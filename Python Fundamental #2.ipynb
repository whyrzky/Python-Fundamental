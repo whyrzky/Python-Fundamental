{
  "nbformat": 4,
  "nbformat_minor": 0,
  "metadata": {
    "colab": {
      "provenance": [],
      "collapsed_sections": [
        "M_cMSavCHYMu",
        "RodgTb0PH8SO",
        "Z4ibzkgRLxn2",
        "_T5REtVoMxlw"
      ],
      "toc_visible": true,
      "include_colab_link": true
    },
    "kernelspec": {
      "name": "python3",
      "display_name": "Python 3"
    },
    "language_info": {
      "name": "python"
    }
  },
  "cells": [
    {
      "cell_type": "markdown",
      "metadata": {
        "id": "view-in-github",
        "colab_type": "text"
      },
      "source": [
        "<a href=\"https://colab.research.google.com/github/whyrzky/Python-Fundamental/blob/main/Python%20Fundamental%20%232.ipynb\" target=\"_parent\"><img src=\"https://colab.research.google.com/assets/colab-badge.svg\" alt=\"Open In Colab\"/></a>"
      ]
    },
    {
      "cell_type": "markdown",
      "source": [
        "# Upload Data"
      ],
      "metadata": {
        "id": "zjS0Kg3eGz_A"
      }
    },
    {
      "cell_type": "code",
      "source": [
        "import pandas as pd\n",
        "import numpy as np"
      ],
      "metadata": {
        "id": "-rUQILuSG1cr"
      },
      "execution_count": null,
      "outputs": []
    },
    {
      "cell_type": "code",
      "source": [
        "df=pd.read_csv(\"/content/da4_student_scores_descriptive - student_scores_assignment.csv\")\n",
        "df.info()"
      ],
      "metadata": {
        "colab": {
          "base_uri": "https://localhost:8080/"
        },
        "id": "IAC5x0r8HJKN",
        "outputId": "e86ca0ac-15d2-45b1-d1dd-20a28520b888"
      },
      "execution_count": null,
      "outputs": [
        {
          "output_type": "stream",
          "name": "stdout",
          "text": [
            "<class 'pandas.core.frame.DataFrame'>\n",
            "RangeIndex: 49 entries, 0 to 48\n",
            "Data columns (total 7 columns):\n",
            " #   Column         Non-Null Count  Dtype  \n",
            "---  ------         --------------  -----  \n",
            " 0   Student_id     49 non-null     int64  \n",
            " 1   Hours          46 non-null     float64\n",
            " 2   Math_Scores    45 non-null     float64\n",
            " 3   Bahasa_Scores  49 non-null     int64  \n",
            " 4   Social_Scores  49 non-null     int64  \n",
            " 5   Gender         49 non-null     object \n",
            " 6   Class          49 non-null     object \n",
            "dtypes: float64(2), int64(3), object(2)\n",
            "memory usage: 2.8+ KB\n"
          ]
        }
      ]
    },
    {
      "cell_type": "markdown",
      "source": [
        "#Question\n",
        "1. Find missing value on column and replace it with mean value !\n",
        "3. Please Describe your new data!\n",
        "2. Please detect outlier with visualization : scatter plot, box plot!\n",
        "3. In there outlier in Hours Math_Scores Bahasa_Scores Social_Scores ? if yes, please find the outlier limit\n",
        "4. Remove outlier !\n",
        "5. Describe your new data and visualize with scatter plot and box plot!"
      ],
      "metadata": {
        "id": "cD_-4v8eHVSV"
      }
    },
    {
      "cell_type": "markdown",
      "source": [
        "##Answer 1"
      ],
      "metadata": {
        "id": "M_cMSavCHYMu"
      }
    },
    {
      "cell_type": "code",
      "source": [
        "df.isna().sum()"
      ],
      "metadata": {
        "colab": {
          "base_uri": "https://localhost:8080/"
        },
        "id": "nhAEMhfLHR-t",
        "outputId": "27df8ae1-8daa-4272-a7b1-3d4dab4e95d2"
      },
      "execution_count": null,
      "outputs": [
        {
          "output_type": "execute_result",
          "data": {
            "text/plain": [
              "Student_id       0\n",
              "Hours            3\n",
              "Math_Scores      4\n",
              "Bahasa_Scores    0\n",
              "Social_Scores    0\n",
              "Gender           0\n",
              "Class            0\n",
              "dtype: int64"
            ]
          },
          "metadata": {},
          "execution_count": 114
        }
      ]
    },
    {
      "cell_type": "code",
      "source": [
        "rataan_hours = df['Hours'].mean()\n",
        "rataan_math_scores = df['Math_Scores'].mean()\n",
        "df['Hours'] = df['Hours'].fillna(rataan_hours)\n",
        "df['Math_Scores'] = df['Math_Scores'].fillna(rataan_math_scores)\n",
        "df.isna().sum()"
      ],
      "metadata": {
        "colab": {
          "base_uri": "https://localhost:8080/"
        },
        "id": "trpS3diLHlyD",
        "outputId": "49459b80-9a43-404a-b658-324576ff1d11"
      },
      "execution_count": null,
      "outputs": [
        {
          "output_type": "execute_result",
          "data": {
            "text/plain": [
              "Student_id       0\n",
              "Hours            0\n",
              "Math_Scores      0\n",
              "Bahasa_Scores    0\n",
              "Social_Scores    0\n",
              "Gender           0\n",
              "Class            0\n",
              "dtype: int64"
            ]
          },
          "metadata": {},
          "execution_count": 115
        }
      ]
    },
    {
      "cell_type": "markdown",
      "source": [
        "##Answer 2"
      ],
      "metadata": {
        "id": "RodgTb0PH8SO"
      }
    },
    {
      "cell_type": "code",
      "source": [
        "df.describe()"
      ],
      "metadata": {
        "colab": {
          "base_uri": "https://localhost:8080/"
        },
        "id": "wakpr7k0H9zl",
        "outputId": "6461ef1a-7498-4421-9bd4-2d0b804a788a"
      },
      "execution_count": null,
      "outputs": [
        {
          "output_type": "execute_result",
          "data": {
            "text/plain": [
              "        Student_id      Hours  Math_Scores  Bahasa_Scores  Social_Scores\n",
              "count    49.000000  49.000000    49.000000      49.000000      49.000000\n",
              "mean   5422.040816   4.795652    49.377778      62.183673      43.571429\n",
              "std    3109.932857   2.405112    23.546310      68.478912      24.150569\n",
              "min     555.000000   1.100000    17.000000       5.000000       2.000000\n",
              "25%    2107.000000   2.500000    27.000000      31.000000      15.000000\n",
              "50%    6296.000000   4.795652    49.377778      63.000000      50.000000\n",
              "75%    8222.000000   6.900000    69.000000      70.000000      61.000000\n",
              "max    9889.000000   9.200000    88.000000     500.000000      80.000000"
            ],
            "text/html": [
              "\n",
              "  <div id=\"df-1d492143-c913-4a3d-a430-29636d773a94\">\n",
              "    <div class=\"colab-df-container\">\n",
              "      <div>\n",
              "<style scoped>\n",
              "    .dataframe tbody tr th:only-of-type {\n",
              "        vertical-align: middle;\n",
              "    }\n",
              "\n",
              "    .dataframe tbody tr th {\n",
              "        vertical-align: top;\n",
              "    }\n",
              "\n",
              "    .dataframe thead th {\n",
              "        text-align: right;\n",
              "    }\n",
              "</style>\n",
              "<table border=\"1\" class=\"dataframe\">\n",
              "  <thead>\n",
              "    <tr style=\"text-align: right;\">\n",
              "      <th></th>\n",
              "      <th>Student_id</th>\n",
              "      <th>Hours</th>\n",
              "      <th>Math_Scores</th>\n",
              "      <th>Bahasa_Scores</th>\n",
              "      <th>Social_Scores</th>\n",
              "    </tr>\n",
              "  </thead>\n",
              "  <tbody>\n",
              "    <tr>\n",
              "      <th>count</th>\n",
              "      <td>49.000000</td>\n",
              "      <td>49.000000</td>\n",
              "      <td>49.000000</td>\n",
              "      <td>49.000000</td>\n",
              "      <td>49.000000</td>\n",
              "    </tr>\n",
              "    <tr>\n",
              "      <th>mean</th>\n",
              "      <td>5422.040816</td>\n",
              "      <td>4.795652</td>\n",
              "      <td>49.377778</td>\n",
              "      <td>62.183673</td>\n",
              "      <td>43.571429</td>\n",
              "    </tr>\n",
              "    <tr>\n",
              "      <th>std</th>\n",
              "      <td>3109.932857</td>\n",
              "      <td>2.405112</td>\n",
              "      <td>23.546310</td>\n",
              "      <td>68.478912</td>\n",
              "      <td>24.150569</td>\n",
              "    </tr>\n",
              "    <tr>\n",
              "      <th>min</th>\n",
              "      <td>555.000000</td>\n",
              "      <td>1.100000</td>\n",
              "      <td>17.000000</td>\n",
              "      <td>5.000000</td>\n",
              "      <td>2.000000</td>\n",
              "    </tr>\n",
              "    <tr>\n",
              "      <th>25%</th>\n",
              "      <td>2107.000000</td>\n",
              "      <td>2.500000</td>\n",
              "      <td>27.000000</td>\n",
              "      <td>31.000000</td>\n",
              "      <td>15.000000</td>\n",
              "    </tr>\n",
              "    <tr>\n",
              "      <th>50%</th>\n",
              "      <td>6296.000000</td>\n",
              "      <td>4.795652</td>\n",
              "      <td>49.377778</td>\n",
              "      <td>63.000000</td>\n",
              "      <td>50.000000</td>\n",
              "    </tr>\n",
              "    <tr>\n",
              "      <th>75%</th>\n",
              "      <td>8222.000000</td>\n",
              "      <td>6.900000</td>\n",
              "      <td>69.000000</td>\n",
              "      <td>70.000000</td>\n",
              "      <td>61.000000</td>\n",
              "    </tr>\n",
              "    <tr>\n",
              "      <th>max</th>\n",
              "      <td>9889.000000</td>\n",
              "      <td>9.200000</td>\n",
              "      <td>88.000000</td>\n",
              "      <td>500.000000</td>\n",
              "      <td>80.000000</td>\n",
              "    </tr>\n",
              "  </tbody>\n",
              "</table>\n",
              "</div>\n",
              "      <button class=\"colab-df-convert\" onclick=\"convertToInteractive('df-1d492143-c913-4a3d-a430-29636d773a94')\"\n",
              "              title=\"Convert this dataframe to an interactive table.\"\n",
              "              style=\"display:none;\">\n",
              "        \n",
              "  <svg xmlns=\"http://www.w3.org/2000/svg\" height=\"24px\"viewBox=\"0 0 24 24\"\n",
              "       width=\"24px\">\n",
              "    <path d=\"M0 0h24v24H0V0z\" fill=\"none\"/>\n",
              "    <path d=\"M18.56 5.44l.94 2.06.94-2.06 2.06-.94-2.06-.94-.94-2.06-.94 2.06-2.06.94zm-11 1L8.5 8.5l.94-2.06 2.06-.94-2.06-.94L8.5 2.5l-.94 2.06-2.06.94zm10 10l.94 2.06.94-2.06 2.06-.94-2.06-.94-.94-2.06-.94 2.06-2.06.94z\"/><path d=\"M17.41 7.96l-1.37-1.37c-.4-.4-.92-.59-1.43-.59-.52 0-1.04.2-1.43.59L10.3 9.45l-7.72 7.72c-.78.78-.78 2.05 0 2.83L4 21.41c.39.39.9.59 1.41.59.51 0 1.02-.2 1.41-.59l7.78-7.78 2.81-2.81c.8-.78.8-2.07 0-2.86zM5.41 20L4 18.59l7.72-7.72 1.47 1.35L5.41 20z\"/>\n",
              "  </svg>\n",
              "      </button>\n",
              "      \n",
              "  <style>\n",
              "    .colab-df-container {\n",
              "      display:flex;\n",
              "      flex-wrap:wrap;\n",
              "      gap: 12px;\n",
              "    }\n",
              "\n",
              "    .colab-df-convert {\n",
              "      background-color: #E8F0FE;\n",
              "      border: none;\n",
              "      border-radius: 50%;\n",
              "      cursor: pointer;\n",
              "      display: none;\n",
              "      fill: #1967D2;\n",
              "      height: 32px;\n",
              "      padding: 0 0 0 0;\n",
              "      width: 32px;\n",
              "    }\n",
              "\n",
              "    .colab-df-convert:hover {\n",
              "      background-color: #E2EBFA;\n",
              "      box-shadow: 0px 1px 2px rgba(60, 64, 67, 0.3), 0px 1px 3px 1px rgba(60, 64, 67, 0.15);\n",
              "      fill: #174EA6;\n",
              "    }\n",
              "\n",
              "    [theme=dark] .colab-df-convert {\n",
              "      background-color: #3B4455;\n",
              "      fill: #D2E3FC;\n",
              "    }\n",
              "\n",
              "    [theme=dark] .colab-df-convert:hover {\n",
              "      background-color: #434B5C;\n",
              "      box-shadow: 0px 1px 3px 1px rgba(0, 0, 0, 0.15);\n",
              "      filter: drop-shadow(0px 1px 2px rgba(0, 0, 0, 0.3));\n",
              "      fill: #FFFFFF;\n",
              "    }\n",
              "  </style>\n",
              "\n",
              "      <script>\n",
              "        const buttonEl =\n",
              "          document.querySelector('#df-1d492143-c913-4a3d-a430-29636d773a94 button.colab-df-convert');\n",
              "        buttonEl.style.display =\n",
              "          google.colab.kernel.accessAllowed ? 'block' : 'none';\n",
              "\n",
              "        async function convertToInteractive(key) {\n",
              "          const element = document.querySelector('#df-1d492143-c913-4a3d-a430-29636d773a94');\n",
              "          const dataTable =\n",
              "            await google.colab.kernel.invokeFunction('convertToInteractive',\n",
              "                                                     [key], {});\n",
              "          if (!dataTable) return;\n",
              "\n",
              "          const docLinkHtml = 'Like what you see? Visit the ' +\n",
              "            '<a target=\"_blank\" href=https://colab.research.google.com/notebooks/data_table.ipynb>data table notebook</a>'\n",
              "            + ' to learn more about interactive tables.';\n",
              "          element.innerHTML = '';\n",
              "          dataTable['output_type'] = 'display_data';\n",
              "          await google.colab.output.renderOutput(dataTable, element);\n",
              "          const docLink = document.createElement('div');\n",
              "          docLink.innerHTML = docLinkHtml;\n",
              "          element.appendChild(docLink);\n",
              "        }\n",
              "      </script>\n",
              "    </div>\n",
              "  </div>\n",
              "  "
            ]
          },
          "metadata": {},
          "execution_count": 116
        }
      ]
    },
    {
      "cell_type": "markdown",
      "source": [
        "As we can see in the results, there seems to be an outlier in the language score column. We see that the maximum value is 500, but there are so many values ​​under 100 in that column. So, we gonna check the outlier using some tools in answer 3"
      ],
      "metadata": {
        "id": "Okks7ToTINZJ"
      }
    },
    {
      "cell_type": "markdown",
      "source": [
        "## Answer 3"
      ],
      "metadata": {
        "id": "oShZDlscJGTm"
      }
    },
    {
      "cell_type": "code",
      "source": [
        "# Importing\n",
        "import sklearn\n",
        "from sklearn.datasets import load_boston\n",
        "import matplotlib.pyplot as plt\n",
        "import seaborn as sns"
      ],
      "metadata": {
        "id": "VsmRrE_-JjXr"
      },
      "execution_count": null,
      "outputs": []
    },
    {
      "cell_type": "code",
      "source": [
        "df.info()"
      ],
      "metadata": {
        "colab": {
          "base_uri": "https://localhost:8080/"
        },
        "id": "f1-qksN5JqcG",
        "outputId": "99613081-29a7-4b3e-dde6-57f915f9c875"
      },
      "execution_count": null,
      "outputs": [
        {
          "output_type": "stream",
          "name": "stdout",
          "text": [
            "<class 'pandas.core.frame.DataFrame'>\n",
            "RangeIndex: 49 entries, 0 to 48\n",
            "Data columns (total 7 columns):\n",
            " #   Column         Non-Null Count  Dtype  \n",
            "---  ------         --------------  -----  \n",
            " 0   Student_id     49 non-null     int64  \n",
            " 1   Hours          49 non-null     float64\n",
            " 2   Math_Scores    49 non-null     float64\n",
            " 3   Bahasa_Scores  49 non-null     int64  \n",
            " 4   Social_Scores  49 non-null     int64  \n",
            " 5   Gender         49 non-null     object \n",
            " 6   Class          49 non-null     object \n",
            "dtypes: float64(2), int64(3), object(2)\n",
            "memory usage: 2.8+ KB\n"
          ]
        }
      ]
    },
    {
      "cell_type": "markdown",
      "source": [
        "####Check outlier using Box Plot"
      ],
      "metadata": {
        "id": "zA4zQ5gSJuRW"
      }
    },
    {
      "cell_type": "code",
      "source": [
        "df.boxplot(column=['Math_Scores','Bahasa_Scores','Social_Scores'])"
      ],
      "metadata": {
        "colab": {
          "base_uri": "https://localhost:8080/",
          "height": 283
        },
        "id": "HTAI1ReeJIPB",
        "outputId": "3c97bda2-d634-4dc6-b437-e7cac725e456"
      },
      "execution_count": null,
      "outputs": [
        {
          "output_type": "execute_result",
          "data": {
            "text/plain": [
              "<matplotlib.axes._subplots.AxesSubplot at 0x7f31436c4a90>"
            ]
          },
          "metadata": {},
          "execution_count": 119
        },
        {
          "output_type": "display_data",
          "data": {
            "text/plain": [
              "<Figure size 432x288 with 1 Axes>"
            ],
            "image/png": "[encoded data removed]"
          },
          "metadata": {
            "needs_background": "light"
          }
        }
      ]
    },
    {
      "cell_type": "code",
      "source": [
        "print(np.where(df['Bahasa_Scores']>100))"
      ],
      "metadata": {
        "colab": {
          "base_uri": "https://localhost:8080/"
        },
        "id": "mpD5kVcpKTjw",
        "outputId": "51987253-6137-4b51-d9ce-ec1679f01f66"
      },
      "execution_count": null,
      "outputs": [
        {
          "output_type": "stream",
          "name": "stdout",
          "text": [
            "(array([2]),)\n"
          ]
        }
      ]
    },
    {
      "cell_type": "markdown",
      "source": [
        "####Check outlier using Scatter Plot"
      ],
      "metadata": {
        "id": "sIwXojnjKMCW"
      }
    },
    {
      "cell_type": "code",
      "source": [
        "fig, ax = plt.subplots(figsize = (8,5))\n",
        "ax.scatter(df['Bahasa_Scores'],df[\"Social_Scores\"])\n",
        "# x-axis label\n",
        "ax.set_xlabel('Bahasa_Scores')\n",
        " \n",
        "# y-axis label\n",
        "ax.set_ylabel('Social_Scores')\n",
        "plt.show()"
      ],
      "metadata": {
        "colab": {
          "base_uri": "https://localhost:8080/",
          "height": 335
        },
        "id": "vu_TFd_eJf06",
        "outputId": "fba7a2e7-d422-435b-dffd-e30171308e79"
      },
      "execution_count": null,
      "outputs": [
        {
          "output_type": "display_data",
          "data": {
            "text/plain": [
              "<Figure size 576x360 with 1 Axes>"
            ],
            "image/png": "[encoded data removed]"
          },
          "metadata": {
            "needs_background": "light"
          }
        }
      ]
    },
    {
      "cell_type": "code",
      "source": [
        "fig, ax = plt.subplots(figsize = (8,5))\n",
        "ax.scatter(df['Math_Scores'],df[\"Social_Scores\"])\n",
        "# x-axis label\n",
        "ax.set_xlabel('Math_Scores')\n",
        " \n",
        "# y-axis label\n",
        "ax.set_ylabel('Social_Scores')\n",
        "plt.show()"
      ],
      "metadata": {
        "colab": {
          "base_uri": "https://localhost:8080/",
          "height": 335
        },
        "id": "prdnmnX5Lkij",
        "outputId": "50068fc8-70c5-4f0b-b98f-ba620d259946"
      },
      "execution_count": null,
      "outputs": [
        {
          "output_type": "display_data",
          "data": {
            "text/plain": [
              "<Figure size 576x360 with 1 Axes>"
            ],
            "image/png": "[encoded data removed]"
          },
          "metadata": {
            "needs_background": "light"
          }
        }
      ]
    },
    {
      "cell_type": "code",
      "source": [
        "fig, ax = plt.subplots(figsize = (8,5))\n",
        "ax.scatter(df['Math_Scores'],df[\"Bahasa_Scores\"])\n",
        "# x-axis label\n",
        "ax.set_xlabel('Math_Scores')\n",
        " \n",
        "# y-axis label\n",
        "ax.set_ylabel('Bahasa_Scores')\n",
        "plt.show()"
      ],
      "metadata": {
        "colab": {
          "base_uri": "https://localhost:8080/",
          "height": 335
        },
        "id": "vFaCs5iALoS2",
        "outputId": "019fd482-df3b-4d86-bc49-e673224c88b6"
      },
      "execution_count": null,
      "outputs": [
        {
          "output_type": "display_data",
          "data": {
            "text/plain": [
              "<Figure size 576x360 with 1 Axes>"
            ],
            "image/png": "[encoded data removed]"
          },
          "metadata": {
            "needs_background": "light"
          }
        }
      ]
    },
    {
      "cell_type": "code",
      "source": [
        "print(np.where(df['Bahasa_Scores']>100))"
      ],
      "metadata": {
        "colab": {
          "base_uri": "https://localhost:8080/"
        },
        "id": "eoAT_E1RLMnc",
        "outputId": "cc9c0e60-3126-463c-d24c-037c70e5cd5a"
      },
      "execution_count": null,
      "outputs": [
        {
          "output_type": "stream",
          "name": "stdout",
          "text": [
            "(array([2]),)\n"
          ]
        }
      ]
    },
    {
      "cell_type": "markdown",
      "source": [
        "##Answer 4\n",
        "In the boxplot, we can see that there is only 1 outlier, which in Bahasa_Scores column with value of 500 in index 2. It might be caused by human error. But, lets we check with the quantile methods"
      ],
      "metadata": {
        "id": "Z4ibzkgRLxn2"
      }
    },
    {
      "cell_type": "code",
      "source": [
        "df"
      ],
      "metadata": {
        "colab": {
          "base_uri": "https://localhost:8080/"
        },
        "id": "4CmFe2ZiNzCX",
        "outputId": "4b91bfea-755c-4dc2-ba0a-84db4a8a9557"
      },
      "execution_count": null,
      "outputs": [
        {
          "output_type": "execute_result",
          "data": {
            "text/plain": [
              "    Student_id     Hours  Math_Scores  Bahasa_Scores  Social_Scores Gender  \\\n",
              "0         5388  2.500000    21.000000             70             50      F   \n",
              "1         3107  5.100000    49.377778             50             70      M   \n",
              "2          740  3.200000    27.000000            500             60      A   \n",
              "3         6609  8.500000    75.000000             76             60      M   \n",
              "4         9889  3.500000    30.000000             31             15      M   \n",
              "5         1286  1.500000    49.377778             10             20      M   \n",
              "6         8222  9.200000    88.000000             89             73      F   \n",
              "7         9571  5.500000    60.000000             61             45      M   \n",
              "8         1675  8.300000    81.000000             82             66      F   \n",
              "9         8982  2.700000    25.000000             26             10      F   \n",
              "10        5790  7.700000    85.000000             86             70      M   \n",
              "11        2713  2.500000    21.000000             70             50      F   \n",
              "12        6296  2.500000    21.000000             70             50      F   \n",
              "13        2107  5.100000    50.000000             50             70      M   \n",
              "14        1269  1.100000    17.000000             18              2      F   \n",
              "15        6106  8.900000    49.377778              5             80      F   \n",
              "16        6527  2.500000    30.000000             31             15      M   \n",
              "17        8403  1.900000    24.000000             25              9      M   \n",
              "18        9790  6.100000    67.000000             68             52      M   \n",
              "19        8408  7.400000    69.000000             70             54      M   \n",
              "20        9107  2.700000    30.000000             31             15      M   \n",
              "21        4107  4.795652    54.000000             55             39      M   \n",
              "22        5832  3.800000    35.000000             36             20      F   \n",
              "23        8125  6.900000    76.000000             77             61      M   \n",
              "24        4954  4.795652    86.000000             87             71      F   \n",
              "25        8844  2.700000    25.000000             26             10      F   \n",
              "26        7118  7.700000    85.000000             86             70      M   \n",
              "27        7126  5.900000    62.000000             63             47      M   \n",
              "28        1745  4.500000    41.000000             42             26      M   \n",
              "29        9363  1.900000    24.000000             25              9      M   \n",
              "30        6711  6.100000    67.000000             68             52      M   \n",
              "31        2837  7.400000    69.000000             70             54      M   \n",
              "32        7349  2.700000    30.000000             31             15      M   \n",
              "33         555  6.100000    67.000000             68             52      M   \n",
              "34        9787  7.400000    69.000000             70             54      M   \n",
              "35        1346  2.700000    30.000000             31             15      M   \n",
              "36         899  3.800000    35.000000             36             20      F   \n",
              "37        1282  6.900000    76.000000             77             61      M   \n",
              "38        8435  4.795652    86.000000             87             71      F   \n",
              "39        3935  7.700000    85.000000             86             70      M   \n",
              "40         600  2.500000    21.000000             70             50      F   \n",
              "41        6296  2.500000    21.000000             70             50      F   \n",
              "42        2107  5.100000    50.000000             50             70      M   \n",
              "43        6414  1.100000    17.000000             18              2      F   \n",
              "44        8790  8.900000    49.377778              5             80      F   \n",
              "45        3006  2.500000    30.000000             31             15      M   \n",
              "46        1070  1.900000    24.000000             25              9      M   \n",
              "47        8175  6.100000    67.000000             68             52      M   \n",
              "48        6887  7.400000    69.000000             70             54      M   \n",
              "\n",
              "   Class  \n",
              "0      A  \n",
              "1      B  \n",
              "2      C  \n",
              "3      C  \n",
              "4      A  \n",
              "5      A  \n",
              "6      A  \n",
              "7      B  \n",
              "8      B  \n",
              "9      A  \n",
              "10     B  \n",
              "11     A  \n",
              "12     A  \n",
              "13     B  \n",
              "14     C  \n",
              "15     C  \n",
              "16     A  \n",
              "17     A  \n",
              "18     A  \n",
              "19     B  \n",
              "20     B  \n",
              "21     B  \n",
              "22     A  \n",
              "23     B  \n",
              "24     A  \n",
              "25     B  \n",
              "26     A  \n",
              "27     A  \n",
              "28     A  \n",
              "29     A  \n",
              "30     A  \n",
              "31     B  \n",
              "32     B  \n",
              "33     A  \n",
              "34     B  \n",
              "35     B  \n",
              "36     A  \n",
              "37     B  \n",
              "38     A  \n",
              "39     B  \n",
              "40     A  \n",
              "41     A  \n",
              "42     B  \n",
              "43     C  \n",
              "44     C  \n",
              "45     A  \n",
              "46     A  \n",
              "47     A  \n",
              "48     B  "
            ],
            "text/html": [
              "\n",
              "  <div id=\"df-85c0224a-5ae3-46b1-a2b9-1cdc360fde5e\">\n",
              "    <div class=\"colab-df-container\">\n",
              "      <div>\n",
              "<style scoped>\n",
              "    .dataframe tbody tr th:only-of-type {\n",
              "        vertical-align: middle;\n",
              "    }\n",
              "\n",
              "    .dataframe tbody tr th {\n",
              "        vertical-align: top;\n",
              "    }\n",
              "\n",
              "    .dataframe thead th {\n",
              "        text-align: right;\n",
              "    }\n",
              "</style>\n",
              "<table border=\"1\" class=\"dataframe\">\n",
              "  <thead>\n",
              "    <tr style=\"text-align: right;\">\n",
              "      <th></th>\n",
              "      <th>Student_id</th>\n",
              "      <th>Hours</th>\n",
              "      <th>Math_Scores</th>\n",
              "      <th>Bahasa_Scores</th>\n",
              "      <th>Social_Scores</th>\n",
              "      <th>Gender</th>\n",
              "      <th>Class</th>\n",
              "    </tr>\n",
              "  </thead>\n",
              "  <tbody>\n",
              "    <tr>\n",
              "      <th>0</th>\n",
              "      <td>5388</td>\n",
              "      <td>2.500000</td>\n",
              "      <td>21.000000</td>\n",
              "      <td>70</td>\n",
              "      <td>50</td>\n",
              "      <td>F</td>\n",
              "      <td>A</td>\n",
              "    </tr>\n",
              "    <tr>\n",
              "      <th>1</th>\n",
              "      <td>3107</td>\n",
              "      <td>5.100000</td>\n",
              "      <td>49.377778</td>\n",
              "      <td>50</td>\n",
              "      <td>70</td>\n",
              "      <td>M</td>\n",
              "      <td>B</td>\n",
              "    </tr>\n",
              "    <tr>\n",
              "      <th>2</th>\n",
              "      <td>740</td>\n",
              "      <td>3.200000</td>\n",
              "      <td>27.000000</td>\n",
              "      <td>500</td>\n",
              "      <td>60</td>\n",
              "      <td>A</td>\n",
              "      <td>C</td>\n",
              "    </tr>\n",
              "    <tr>\n",
              "      <th>3</th>\n",
              "      <td>6609</td>\n",
              "      <td>8.500000</td>\n",
              "      <td>75.000000</td>\n",
              "      <td>76</td>\n",
              "      <td>60</td>\n",
              "      <td>M</td>\n",
              "      <td>C</td>\n",
              "    </tr>\n",
              "    <tr>\n",
              "      <th>4</th>\n",
              "      <td>9889</td>\n",
              "      <td>3.500000</td>\n",
              "      <td>30.000000</td>\n",
              "      <td>31</td>\n",
              "      <td>15</td>\n",
              "      <td>M</td>\n",
              "      <td>A</td>\n",
              "    </tr>\n",
              "    <tr>\n",
              "      <th>5</th>\n",
              "      <td>1286</td>\n",
              "      <td>1.500000</td>\n",
              "      <td>49.377778</td>\n",
              "      <td>10</td>\n",
              "      <td>20</td>\n",
              "      <td>M</td>\n",
              "      <td>A</td>\n",
              "    </tr>\n",
              "    <tr>\n",
              "      <th>6</th>\n",
              "      <td>8222</td>\n",
              "      <td>9.200000</td>\n",
              "      <td>88.000000</td>\n",
              "      <td>89</td>\n",
              "      <td>73</td>\n",
              "      <td>F</td>\n",
              "      <td>A</td>\n",
              "    </tr>\n",
              "    <tr>\n",
              "      <th>7</th>\n",
              "      <td>9571</td>\n",
              "      <td>5.500000</td>\n",
              "      <td>60.000000</td>\n",
              "      <td>61</td>\n",
              "      <td>45</td>\n",
              "      <td>M</td>\n",
              "      <td>B</td>\n",
              "    </tr>\n",
              "    <tr>\n",
              "      <th>8</th>\n",
              "      <td>1675</td>\n",
              "      <td>8.300000</td>\n",
              "      <td>81.000000</td>\n",
              "      <td>82</td>\n",
              "      <td>66</td>\n",
              "      <td>F</td>\n",
              "      <td>B</td>\n",
              "    </tr>\n",
              "    <tr>\n",
              "      <th>9</th>\n",
              "      <td>8982</td>\n",
              "      <td>2.700000</td>\n",
              "      <td>25.000000</td>\n",
              "      <td>26</td>\n",
              "      <td>10</td>\n",
              "      <td>F</td>\n",
              "      <td>A</td>\n",
              "    </tr>\n",
              "    <tr>\n",
              "      <th>10</th>\n",
              "      <td>5790</td>\n",
              "      <td>7.700000</td>\n",
              "      <td>85.000000</td>\n",
              "      <td>86</td>\n",
              "      <td>70</td>\n",
              "      <td>M</td>\n",
              "      <td>B</td>\n",
              "    </tr>\n",
              "    <tr>\n",
              "      <th>11</th>\n",
              "      <td>2713</td>\n",
              "      <td>2.500000</td>\n",
              "      <td>21.000000</td>\n",
              "      <td>70</td>\n",
              "      <td>50</td>\n",
              "      <td>F</td>\n",
              "      <td>A</td>\n",
              "    </tr>\n",
              "    <tr>\n",
              "      <th>12</th>\n",
              "      <td>6296</td>\n",
              "      <td>2.500000</td>\n",
              "      <td>21.000000</td>\n",
              "      <td>70</td>\n",
              "      <td>50</td>\n",
              "      <td>F</td>\n",
              "      <td>A</td>\n",
              "    </tr>\n",
              "    <tr>\n",
              "      <th>13</th>\n",
              "      <td>2107</td>\n",
              "      <td>5.100000</td>\n",
              "      <td>50.000000</td>\n",
              "      <td>50</td>\n",
              "      <td>70</td>\n",
              "      <td>M</td>\n",
              "      <td>B</td>\n",
              "    </tr>\n",
              "    <tr>\n",
              "      <th>14</th>\n",
              "      <td>1269</td>\n",
              "      <td>1.100000</td>\n",
              "      <td>17.000000</td>\n",
              "      <td>18</td>\n",
              "      <td>2</td>\n",
              "      <td>F</td>\n",
              "      <td>C</td>\n",
              "    </tr>\n",
              "    <tr>\n",
              "      <th>15</th>\n",
              "      <td>6106</td>\n",
              "      <td>8.900000</td>\n",
              "      <td>49.377778</td>\n",
              "      <td>5</td>\n",
              "      <td>80</td>\n",
              "      <td>F</td>\n",
              "      <td>C</td>\n",
              "    </tr>\n",
              "    <tr>\n",
              "      <th>16</th>\n",
              "      <td>6527</td>\n",
              "      <td>2.500000</td>\n",
              "      <td>30.000000</td>\n",
              "      <td>31</td>\n",
              "      <td>15</td>\n",
              "      <td>M</td>\n",
              "      <td>A</td>\n",
              "    </tr>\n",
              "    <tr>\n",
              "      <th>17</th>\n",
              "      <td>8403</td>\n",
              "      <td>1.900000</td>\n",
              "      <td>24.000000</td>\n",
              "      <td>25</td>\n",
              "      <td>9</td>\n",
              "      <td>M</td>\n",
              "      <td>A</td>\n",
              "    </tr>\n",
              "    <tr>\n",
              "      <th>18</th>\n",
              "      <td>9790</td>\n",
              "      <td>6.100000</td>\n",
              "      <td>67.000000</td>\n",
              "      <td>68</td>\n",
              "      <td>52</td>\n",
              "      <td>M</td>\n",
              "      <td>A</td>\n",
              "    </tr>\n",
              "    <tr>\n",
              "      <th>19</th>\n",
              "      <td>8408</td>\n",
              "      <td>7.400000</td>\n",
              "      <td>69.000000</td>\n",
              "      <td>70</td>\n",
              "      <td>54</td>\n",
              "      <td>M</td>\n",
              "      <td>B</td>\n",
              "    </tr>\n",
              "    <tr>\n",
              "      <th>20</th>\n",
              "      <td>9107</td>\n",
              "      <td>2.700000</td>\n",
              "      <td>30.000000</td>\n",
              "      <td>31</td>\n",
              "      <td>15</td>\n",
              "      <td>M</td>\n",
              "      <td>B</td>\n",
              "    </tr>\n",
              "    <tr>\n",
              "      <th>21</th>\n",
              "      <td>4107</td>\n",
              "      <td>4.795652</td>\n",
              "      <td>54.000000</td>\n",
              "      <td>55</td>\n",
              "      <td>39</td>\n",
              "      <td>M</td>\n",
              "      <td>B</td>\n",
              "    </tr>\n",
              "    <tr>\n",
              "      <th>22</th>\n",
              "      <td>5832</td>\n",
              "      <td>3.800000</td>\n",
              "      <td>35.000000</td>\n",
              "      <td>36</td>\n",
              "      <td>20</td>\n",
              "      <td>F</td>\n",
              "      <td>A</td>\n",
              "    </tr>\n",
              "    <tr>\n",
              "      <th>23</th>\n",
              "      <td>8125</td>\n",
              "      <td>6.900000</td>\n",
              "      <td>76.000000</td>\n",
              "      <td>77</td>\n",
              "      <td>61</td>\n",
              "      <td>M</td>\n",
              "      <td>B</td>\n",
              "    </tr>\n",
              "    <tr>\n",
              "      <th>24</th>\n",
              "      <td>4954</td>\n",
              "      <td>4.795652</td>\n",
              "      <td>86.000000</td>\n",
              "      <td>87</td>\n",
              "      <td>71</td>\n",
              "      <td>F</td>\n",
              "      <td>A</td>\n",
              "    </tr>\n",
              "    <tr>\n",
              "      <th>25</th>\n",
              "      <td>8844</td>\n",
              "      <td>2.700000</td>\n",
              "      <td>25.000000</td>\n",
              "      <td>26</td>\n",
              "      <td>10</td>\n",
              "      <td>F</td>\n",
              "      <td>B</td>\n",
              "    </tr>\n",
              "    <tr>\n",
              "      <th>26</th>\n",
              "      <td>7118</td>\n",
              "      <td>7.700000</td>\n",
              "      <td>85.000000</td>\n",
              "      <td>86</td>\n",
              "      <td>70</td>\n",
              "      <td>M</td>\n",
              "      <td>A</td>\n",
              "    </tr>\n",
              "    <tr>\n",
              "      <th>27</th>\n",
              "      <td>7126</td>\n",
              "      <td>5.900000</td>\n",
              "      <td>62.000000</td>\n",
              "      <td>63</td>\n",
              "      <td>47</td>\n",
              "      <td>M</td>\n",
              "      <td>A</td>\n",
              "    </tr>\n",
              "    <tr>\n",
              "      <th>28</th>\n",
              "      <td>1745</td>\n",
              "      <td>4.500000</td>\n",
              "      <td>41.000000</td>\n",
              "      <td>42</td>\n",
              "      <td>26</td>\n",
              "      <td>M</td>\n",
              "      <td>A</td>\n",
              "    </tr>\n",
              "    <tr>\n",
              "      <th>29</th>\n",
              "      <td>9363</td>\n",
              "      <td>1.900000</td>\n",
              "      <td>24.000000</td>\n",
              "      <td>25</td>\n",
              "      <td>9</td>\n",
              "      <td>M</td>\n",
              "      <td>A</td>\n",
              "    </tr>\n",
              "    <tr>\n",
              "      <th>30</th>\n",
              "      <td>6711</td>\n",
              "      <td>6.100000</td>\n",
              "      <td>67.000000</td>\n",
              "      <td>68</td>\n",
              "      <td>52</td>\n",
              "      <td>M</td>\n",
              "      <td>A</td>\n",
              "    </tr>\n",
              "    <tr>\n",
              "      <th>31</th>\n",
              "      <td>2837</td>\n",
              "      <td>7.400000</td>\n",
              "      <td>69.000000</td>\n",
              "      <td>70</td>\n",
              "      <td>54</td>\n",
              "      <td>M</td>\n",
              "      <td>B</td>\n",
              "    </tr>\n",
              "    <tr>\n",
              "      <th>32</th>\n",
              "      <td>7349</td>\n",
              "      <td>2.700000</td>\n",
              "      <td>30.000000</td>\n",
              "      <td>31</td>\n",
              "      <td>15</td>\n",
              "      <td>M</td>\n",
              "      <td>B</td>\n",
              "    </tr>\n",
              "    <tr>\n",
              "      <th>33</th>\n",
              "      <td>555</td>\n",
              "      <td>6.100000</td>\n",
              "      <td>67.000000</td>\n",
              "      <td>68</td>\n",
              "      <td>52</td>\n",
              "      <td>M</td>\n",
              "      <td>A</td>\n",
              "    </tr>\n",
              "    <tr>\n",
              "      <th>34</th>\n",
              "      <td>9787</td>\n",
              "      <td>7.400000</td>\n",
              "      <td>69.000000</td>\n",
              "      <td>70</td>\n",
              "      <td>54</td>\n",
              "      <td>M</td>\n",
              "      <td>B</td>\n",
              "    </tr>\n",
              "    <tr>\n",
              "      <th>35</th>\n",
              "      <td>1346</td>\n",
              "      <td>2.700000</td>\n",
              "      <td>30.000000</td>\n",
              "      <td>31</td>\n",
              "      <td>15</td>\n",
              "      <td>M</td>\n",
              "      <td>B</td>\n",
              "    </tr>\n",
              "    <tr>\n",
              "      <th>36</th>\n",
              "      <td>899</td>\n",
              "      <td>3.800000</td>\n",
              "      <td>35.000000</td>\n",
              "      <td>36</td>\n",
              "      <td>20</td>\n",
              "      <td>F</td>\n",
              "      <td>A</td>\n",
              "    </tr>\n",
              "    <tr>\n",
              "      <th>37</th>\n",
              "      <td>1282</td>\n",
              "      <td>6.900000</td>\n",
              "      <td>76.000000</td>\n",
              "      <td>77</td>\n",
              "      <td>61</td>\n",
              "      <td>M</td>\n",
              "      <td>B</td>\n",
              "    </tr>\n",
              "    <tr>\n",
              "      <th>38</th>\n",
              "      <td>8435</td>\n",
              "      <td>4.795652</td>\n",
              "      <td>86.000000</td>\n",
              "      <td>87</td>\n",
              "      <td>71</td>\n",
              "      <td>F</td>\n",
              "      <td>A</td>\n",
              "    </tr>\n",
              "    <tr>\n",
              "      <th>39</th>\n",
              "      <td>3935</td>\n",
              "      <td>7.700000</td>\n",
              "      <td>85.000000</td>\n",
              "      <td>86</td>\n",
              "      <td>70</td>\n",
              "      <td>M</td>\n",
              "      <td>B</td>\n",
              "    </tr>\n",
              "    <tr>\n",
              "      <th>40</th>\n",
              "      <td>600</td>\n",
              "      <td>2.500000</td>\n",
              "      <td>21.000000</td>\n",
              "      <td>70</td>\n",
              "      <td>50</td>\n",
              "      <td>F</td>\n",
              "      <td>A</td>\n",
              "    </tr>\n",
              "    <tr>\n",
              "      <th>41</th>\n",
              "      <td>6296</td>\n",
              "      <td>2.500000</td>\n",
              "      <td>21.000000</td>\n",
              "      <td>70</td>\n",
              "      <td>50</td>\n",
              "      <td>F</td>\n",
              "      <td>A</td>\n",
              "    </tr>\n",
              "    <tr>\n",
              "      <th>42</th>\n",
              "      <td>2107</td>\n",
              "      <td>5.100000</td>\n",
              "      <td>50.000000</td>\n",
              "      <td>50</td>\n",
              "      <td>70</td>\n",
              "      <td>M</td>\n",
              "      <td>B</td>\n",
              "    </tr>\n",
              "    <tr>\n",
              "      <th>43</th>\n",
              "      <td>6414</td>\n",
              "      <td>1.100000</td>\n",
              "      <td>17.000000</td>\n",
              "      <td>18</td>\n",
              "      <td>2</td>\n",
              "      <td>F</td>\n",
              "      <td>C</td>\n",
              "    </tr>\n",
              "    <tr>\n",
              "      <th>44</th>\n",
              "      <td>8790</td>\n",
              "      <td>8.900000</td>\n",
              "      <td>49.377778</td>\n",
              "      <td>5</td>\n",
              "      <td>80</td>\n",
              "      <td>F</td>\n",
              "      <td>C</td>\n",
              "    </tr>\n",
              "    <tr>\n",
              "      <th>45</th>\n",
              "      <td>3006</td>\n",
              "      <td>2.500000</td>\n",
              "      <td>30.000000</td>\n",
              "      <td>31</td>\n",
              "      <td>15</td>\n",
              "      <td>M</td>\n",
              "      <td>A</td>\n",
              "    </tr>\n",
              "    <tr>\n",
              "      <th>46</th>\n",
              "      <td>1070</td>\n",
              "      <td>1.900000</td>\n",
              "      <td>24.000000</td>\n",
              "      <td>25</td>\n",
              "      <td>9</td>\n",
              "      <td>M</td>\n",
              "      <td>A</td>\n",
              "    </tr>\n",
              "    <tr>\n",
              "      <th>47</th>\n",
              "      <td>8175</td>\n",
              "      <td>6.100000</td>\n",
              "      <td>67.000000</td>\n",
              "      <td>68</td>\n",
              "      <td>52</td>\n",
              "      <td>M</td>\n",
              "      <td>A</td>\n",
              "    </tr>\n",
              "    <tr>\n",
              "      <th>48</th>\n",
              "      <td>6887</td>\n",
              "      <td>7.400000</td>\n",
              "      <td>69.000000</td>\n",
              "      <td>70</td>\n",
              "      <td>54</td>\n",
              "      <td>M</td>\n",
              "      <td>B</td>\n",
              "    </tr>\n",
              "  </tbody>\n",
              "</table>\n",
              "</div>\n",
              "      <button class=\"colab-df-convert\" onclick=\"convertToInteractive('df-85c0224a-5ae3-46b1-a2b9-1cdc360fde5e')\"\n",
              "              title=\"Convert this dataframe to an interactive table.\"\n",
              "              style=\"display:none;\">\n",
              "        \n",
              "  <svg xmlns=\"http://www.w3.org/2000/svg\" height=\"24px\"viewBox=\"0 0 24 24\"\n",
              "       width=\"24px\">\n",
              "    <path d=\"M0 0h24v24H0V0z\" fill=\"none\"/>\n",
              "    <path d=\"M18.56 5.44l.94 2.06.94-2.06 2.06-.94-2.06-.94-.94-2.06-.94 2.06-2.06.94zm-11 1L8.5 8.5l.94-2.06 2.06-.94-2.06-.94L8.5 2.5l-.94 2.06-2.06.94zm10 10l.94 2.06.94-2.06 2.06-.94-2.06-.94-.94-2.06-.94 2.06-2.06.94z\"/><path d=\"M17.41 7.96l-1.37-1.37c-.4-.4-.92-.59-1.43-.59-.52 0-1.04.2-1.43.59L10.3 9.45l-7.72 7.72c-.78.78-.78 2.05 0 2.83L4 21.41c.39.39.9.59 1.41.59.51 0 1.02-.2 1.41-.59l7.78-7.78 2.81-2.81c.8-.78.8-2.07 0-2.86zM5.41 20L4 18.59l7.72-7.72 1.47 1.35L5.41 20z\"/>\n",
              "  </svg>\n",
              "      </button>\n",
              "      \n",
              "  <style>\n",
              "    .colab-df-container {\n",
              "      display:flex;\n",
              "      flex-wrap:wrap;\n",
              "      gap: 12px;\n",
              "    }\n",
              "\n",
              "    .colab-df-convert {\n",
              "      background-color: #E8F0FE;\n",
              "      border: none;\n",
              "      border-radius: 50%;\n",
              "      cursor: pointer;\n",
              "      display: none;\n",
              "      fill: #1967D2;\n",
              "      height: 32px;\n",
              "      padding: 0 0 0 0;\n",
              "      width: 32px;\n",
              "    }\n",
              "\n",
              "    .colab-df-convert:hover {\n",
              "      background-color: #E2EBFA;\n",
              "      box-shadow: 0px 1px 2px rgba(60, 64, 67, 0.3), 0px 1px 3px 1px rgba(60, 64, 67, 0.15);\n",
              "      fill: #174EA6;\n",
              "    }\n",
              "\n",
              "    [theme=dark] .colab-df-convert {\n",
              "      background-color: #3B4455;\n",
              "      fill: #D2E3FC;\n",
              "    }\n",
              "\n",
              "    [theme=dark] .colab-df-convert:hover {\n",
              "      background-color: #434B5C;\n",
              "      box-shadow: 0px 1px 3px 1px rgba(0, 0, 0, 0.15);\n",
              "      filter: drop-shadow(0px 1px 2px rgba(0, 0, 0, 0.3));\n",
              "      fill: #FFFFFF;\n",
              "    }\n",
              "  </style>\n",
              "\n",
              "      <script>\n",
              "        const buttonEl =\n",
              "          document.querySelector('#df-85c0224a-5ae3-46b1-a2b9-1cdc360fde5e button.colab-df-convert');\n",
              "        buttonEl.style.display =\n",
              "          google.colab.kernel.accessAllowed ? 'block' : 'none';\n",
              "\n",
              "        async function convertToInteractive(key) {\n",
              "          const element = document.querySelector('#df-85c0224a-5ae3-46b1-a2b9-1cdc360fde5e');\n",
              "          const dataTable =\n",
              "            await google.colab.kernel.invokeFunction('convertToInteractive',\n",
              "                                                     [key], {});\n",
              "          if (!dataTable) return;\n",
              "\n",
              "          const docLinkHtml = 'Like what you see? Visit the ' +\n",
              "            '<a target=\"_blank\" href=https://colab.research.google.com/notebooks/data_table.ipynb>data table notebook</a>'\n",
              "            + ' to learn more about interactive tables.';\n",
              "          element.innerHTML = '';\n",
              "          dataTable['output_type'] = 'display_data';\n",
              "          await google.colab.output.renderOutput(dataTable, element);\n",
              "          const docLink = document.createElement('div');\n",
              "          docLink.innerHTML = docLinkHtml;\n",
              "          element.appendChild(docLink);\n",
              "        }\n",
              "      </script>\n",
              "    </div>\n",
              "  </div>\n",
              "  "
            ]
          },
          "metadata": {},
          "execution_count": 125
        }
      ]
    },
    {
      "cell_type": "code",
      "source": [
        "#Outlier Limit Hours\n",
        "Q1 = np.percentile(df['Hours'], 25,\n",
        "                   interpolation = 'midpoint')\n",
        " \n",
        "Q3 = np.percentile(df['Hours'], 75,\n",
        "                   interpolation = 'midpoint')\n",
        "IQR = Q3 - Q1\n",
        "\n",
        "upper_limit= Q3+1.5*IQR\n",
        "lower_limit= Q1-1.5*IQR\n",
        "\n",
        "print(\"upper_limit is\",upper_limit)\n",
        "print(\"lower_limit is\",round(lower_limit,2))\n",
        "print(\"=====================================\")\n",
        "\n",
        "# Upper bound\n",
        "upper = np.where(df['Hours'] >= upper_limit)\n",
        "# Lower bound\n",
        "lower = np.where(df['Hours'] <= lower_limit)\n",
        "\n",
        "print(upper)\n",
        "print(lower)"
      ],
      "metadata": {
        "colab": {
          "base_uri": "https://localhost:8080/"
        },
        "id": "ptXAbv4UL7kF",
        "outputId": "a76fb94a-b291-4b57-f5ef-318e4c7b94b4"
      },
      "execution_count": null,
      "outputs": [
        {
          "output_type": "stream",
          "name": "stdout",
          "text": [
            "upper_limit is 13.5\n",
            "lower_limit is -4.1\n",
            "=====================================\n",
            "(array([], dtype=int64),)\n",
            "(array([], dtype=int64),)\n"
          ]
        }
      ]
    },
    {
      "cell_type": "code",
      "source": [
        "#Outlier Limit Math_Scores\n",
        "Q1 = np.percentile(df['Math_Scores'], 25,\n",
        "                   interpolation = 'midpoint')\n",
        " \n",
        "Q3 = np.percentile(df['Math_Scores'], 75,\n",
        "                   interpolation = 'midpoint')\n",
        "IQR = Q3 - Q1\n",
        "\n",
        "upper_limit= Q3+1.5*IQR\n",
        "lower_limit= Q1-1.5*IQR\n",
        "\n",
        "print(\"upper_limit is\",upper_limit)\n",
        "print(\"lower_limit is\",round(lower_limit,2))\n",
        "print(\"=====================================\")\n",
        "\n",
        "# Upper bound\n",
        "upper = np.where(df['Math_Scores'] >= upper_limit)\n",
        "# Lower bound\n",
        "lower = np.where(df['Math_Scores'] <= lower_limit)\n",
        "\n",
        "print(upper)\n",
        "print(lower)"
      ],
      "metadata": {
        "colab": {
          "base_uri": "https://localhost:8080/"
        },
        "id": "t03GipSIMGGd",
        "outputId": "ddd8a82c-d347-449d-e996-18d996065ffd"
      },
      "execution_count": null,
      "outputs": [
        {
          "output_type": "stream",
          "name": "stdout",
          "text": [
            "upper_limit is 132.0\n",
            "lower_limit is -36.0\n",
            "=====================================\n",
            "(array([], dtype=int64),)\n",
            "(array([], dtype=int64),)\n"
          ]
        }
      ]
    },
    {
      "cell_type": "code",
      "source": [
        "#Outlier Limit Bahasa_Scores\n",
        "Q1 = np.percentile(df['Bahasa_Scores'], 25,\n",
        "                   interpolation = 'midpoint')\n",
        " \n",
        "Q3 = np.percentile(df['Bahasa_Scores'], 75,\n",
        "                   interpolation = 'midpoint')\n",
        "IQR = Q3 - Q1\n",
        "\n",
        "upper_limit= Q3+1.5*IQR\n",
        "lower_limit= Q1-1.5*IQR\n",
        "\n",
        "print(\"upper_limit is\",upper_limit)\n",
        "print(\"lower_limit is\",round(lower_limit,2))\n",
        "print(\"=====================================\")\n",
        "\n",
        "# Upper bound\n",
        "upper = np.where(df['Bahasa_Scores'] >= upper_limit)\n",
        "# Lower bound\n",
        "lower = np.where(df['Bahasa_Scores'] <= lower_limit)\n",
        "\n",
        "print(upper)\n",
        "print(lower)"
      ],
      "metadata": {
        "colab": {
          "base_uri": "https://localhost:8080/"
        },
        "id": "cmr9bThIMHZo",
        "outputId": "e397fbfe-76a2-4224-df4a-1a78d95b5255"
      },
      "execution_count": null,
      "outputs": [
        {
          "output_type": "stream",
          "name": "stdout",
          "text": [
            "upper_limit is 128.5\n",
            "lower_limit is -27.5\n",
            "=====================================\n",
            "(array([2]),)\n",
            "(array([], dtype=int64),)\n"
          ]
        }
      ]
    },
    {
      "cell_type": "code",
      "source": [
        "#Outlier Limit Social_Scores\n",
        "Q1 = np.percentile(df['Social_Scores'], 25,\n",
        "                   interpolation = 'midpoint')\n",
        " \n",
        "Q3 = np.percentile(df['Social_Scores'], 75,\n",
        "                   interpolation = 'midpoint')\n",
        "IQR = Q3 - Q1\n",
        "\n",
        "upper_limit= Q3+1.5*IQR\n",
        "lower_limit= Q1-1.5*IQR\n",
        "\n",
        "print(\"upper_limit is\",upper_limit)\n",
        "print(\"lower_limit is\",round(lower_limit,2))\n",
        "print(\"=====================================\")\n",
        "\n",
        "# Upper bound\n",
        "upper = np.where(df['Social_Scores'] >= upper_limit)\n",
        "# Lower bound\n",
        "lower = np.where(df['Social_Scores'] <= lower_limit)\n",
        "\n",
        "print(upper)\n",
        "print(lower)"
      ],
      "metadata": {
        "colab": {
          "base_uri": "https://localhost:8080/"
        },
        "id": "QwfR9F-HMJj6",
        "outputId": "7a8917ec-c8e8-46fd-b38f-ecee08eab44d"
      },
      "execution_count": null,
      "outputs": [
        {
          "output_type": "stream",
          "name": "stdout",
          "text": [
            "upper_limit is 130.0\n",
            "lower_limit is -54.0\n",
            "=====================================\n",
            "(array([], dtype=int64),)\n",
            "(array([], dtype=int64),)\n"
          ]
        }
      ]
    },
    {
      "cell_type": "markdown",
      "source": [
        "Valid, the outlier is only in Bahasa_scores column with value of 500 in index 2"
      ],
      "metadata": {
        "id": "E0Ijpj5lOlb5"
      }
    },
    {
      "cell_type": "markdown",
      "source": [
        "##Answer 5\n",
        "So we gonna remove the outlier based on answer 4"
      ],
      "metadata": {
        "id": "_T5REtVoMxlw"
      }
    },
    {
      "cell_type": "code",
      "source": [
        "#Remove Outlier\n",
        "outlier = np.where(df['Bahasa_Scores']>100)\n",
        "df.drop(outlier[0], inplace = True)\n",
        "sns.boxplot(df['Bahasa_Scores'])"
      ],
      "metadata": {
        "colab": {
          "base_uri": "https://localhost:8080/"
        },
        "id": "8vwjiJo-PC8c",
        "outputId": "318f8ca4-ecf2-4685-88e7-3f16c067cd99"
      },
      "execution_count": null,
      "outputs": [
        {
          "output_type": "stream",
          "name": "stderr",
          "text": [
            "/usr/local/lib/python3.7/dist-packages/seaborn/_decorators.py:43: FutureWarning: Pass the following variable as a keyword arg: x. From version 0.12, the only valid positional argument will be `data`, and passing other arguments without an explicit keyword will result in an error or misinterpretation.\n",
            "  FutureWarning\n"
          ]
        },
        {
          "output_type": "execute_result",
          "data": {
            "text/plain": [
              "<matplotlib.axes._subplots.AxesSubplot at 0x7f3142be8b90>"
            ]
          },
          "metadata": {},
          "execution_count": 130
        },
        {
          "output_type": "display_data",
          "data": {
            "text/plain": [
              "<Figure size 432x288 with 1 Axes>"
            ],
            "image/png": "[encoded data removed]"
          },
          "metadata": {
            "needs_background": "light"
          }
        }
      ]
    },
    {
      "cell_type": "markdown",
      "source": [
        "##Answer 6"
      ],
      "metadata": {
        "id": "IRLhSZ8SPc9T"
      }
    },
    {
      "cell_type": "code",
      "source": [
        "#Describe data\n",
        "df.describe()"
      ],
      "metadata": {
        "colab": {
          "base_uri": "https://localhost:8080/",
          "height": 300
        },
        "id": "Nbout90gPeVz",
        "outputId": "26a5a464-6b49-4565-ba53-dc808747b1dd"
      },
      "execution_count": null,
      "outputs": [
        {
          "output_type": "execute_result",
          "data": {
            "text/plain": [
              "        Student_id      Hours  Math_Scores  Bahasa_Scores  Social_Scores\n",
              "count    48.000000  48.000000    48.000000      48.000000      48.000000\n",
              "mean   5519.583333   4.828895    49.843981      53.062500      43.229167\n",
              "std    3066.158972   2.419161    23.565834      25.016085      24.285745\n",
              "min     555.000000   1.100000    17.000000       5.000000       2.000000\n",
              "25%    2561.500000   2.500000    28.750000      31.000000      15.000000\n",
              "50%    6296.000000   4.795652    49.377778      62.000000      50.000000\n",
              "75%    8267.250000   7.025000    69.000000      70.000000      62.250000\n",
              "max    9889.000000   9.200000    88.000000      89.000000      80.000000"
            ],
            "text/html": [
              "\n",
              "  <div id=\"df-ad30e6ce-2dbe-47b4-859f-1dda935d565c\">\n",
              "    <div class=\"colab-df-container\">\n",
              "      <div>\n",
              "<style scoped>\n",
              "    .dataframe tbody tr th:only-of-type {\n",
              "        vertical-align: middle;\n",
              "    }\n",
              "\n",
              "    .dataframe tbody tr th {\n",
              "        vertical-align: top;\n",
              "    }\n",
              "\n",
              "    .dataframe thead th {\n",
              "        text-align: right;\n",
              "    }\n",
              "</style>\n",
              "<table border=\"1\" class=\"dataframe\">\n",
              "  <thead>\n",
              "    <tr style=\"text-align: right;\">\n",
              "      <th></th>\n",
              "      <th>Student_id</th>\n",
              "      <th>Hours</th>\n",
              "      <th>Math_Scores</th>\n",
              "      <th>Bahasa_Scores</th>\n",
              "      <th>Social_Scores</th>\n",
              "    </tr>\n",
              "  </thead>\n",
              "  <tbody>\n",
              "    <tr>\n",
              "      <th>count</th>\n",
              "      <td>48.000000</td>\n",
              "      <td>48.000000</td>\n",
              "      <td>48.000000</td>\n",
              "      <td>48.000000</td>\n",
              "      <td>48.000000</td>\n",
              "    </tr>\n",
              "    <tr>\n",
              "      <th>mean</th>\n",
              "      <td>5519.583333</td>\n",
              "      <td>4.828895</td>\n",
              "      <td>49.843981</td>\n",
              "      <td>53.062500</td>\n",
              "      <td>43.229167</td>\n",
              "    </tr>\n",
              "    <tr>\n",
              "      <th>std</th>\n",
              "      <td>3066.158972</td>\n",
              "      <td>2.419161</td>\n",
              "      <td>23.565834</td>\n",
              "      <td>25.016085</td>\n",
              "      <td>24.285745</td>\n",
              "    </tr>\n",
              "    <tr>\n",
              "      <th>min</th>\n",
              "      <td>555.000000</td>\n",
              "      <td>1.100000</td>\n",
              "      <td>17.000000</td>\n",
              "      <td>5.000000</td>\n",
              "      <td>2.000000</td>\n",
              "    </tr>\n",
              "    <tr>\n",
              "      <th>25%</th>\n",
              "      <td>2561.500000</td>\n",
              "      <td>2.500000</td>\n",
              "      <td>28.750000</td>\n",
              "      <td>31.000000</td>\n",
              "      <td>15.000000</td>\n",
              "    </tr>\n",
              "    <tr>\n",
              "      <th>50%</th>\n",
              "      <td>6296.000000</td>\n",
              "      <td>4.795652</td>\n",
              "      <td>49.377778</td>\n",
              "      <td>62.000000</td>\n",
              "      <td>50.000000</td>\n",
              "    </tr>\n",
              "    <tr>\n",
              "      <th>75%</th>\n",
              "      <td>8267.250000</td>\n",
              "      <td>7.025000</td>\n",
              "      <td>69.000000</td>\n",
              "      <td>70.000000</td>\n",
              "      <td>62.250000</td>\n",
              "    </tr>\n",
              "    <tr>\n",
              "      <th>max</th>\n",
              "      <td>9889.000000</td>\n",
              "      <td>9.200000</td>\n",
              "      <td>88.000000</td>\n",
              "      <td>89.000000</td>\n",
              "      <td>80.000000</td>\n",
              "    </tr>\n",
              "  </tbody>\n",
              "</table>\n",
              "</div>\n",
              "      <button class=\"colab-df-convert\" onclick=\"convertToInteractive('df-ad30e6ce-2dbe-47b4-859f-1dda935d565c')\"\n",
              "              title=\"Convert this dataframe to an interactive table.\"\n",
              "              style=\"display:none;\">\n",
              "        \n",
              "  <svg xmlns=\"http://www.w3.org/2000/svg\" height=\"24px\"viewBox=\"0 0 24 24\"\n",
              "       width=\"24px\">\n",
              "    <path d=\"M0 0h24v24H0V0z\" fill=\"none\"/>\n",
              "    <path d=\"M18.56 5.44l.94 2.06.94-2.06 2.06-.94-2.06-.94-.94-2.06-.94 2.06-2.06.94zm-11 1L8.5 8.5l.94-2.06 2.06-.94-2.06-.94L8.5 2.5l-.94 2.06-2.06.94zm10 10l.94 2.06.94-2.06 2.06-.94-2.06-.94-.94-2.06-.94 2.06-2.06.94z\"/><path d=\"M17.41 7.96l-1.37-1.37c-.4-.4-.92-.59-1.43-.59-.52 0-1.04.2-1.43.59L10.3 9.45l-7.72 7.72c-.78.78-.78 2.05 0 2.83L4 21.41c.39.39.9.59 1.41.59.51 0 1.02-.2 1.41-.59l7.78-7.78 2.81-2.81c.8-.78.8-2.07 0-2.86zM5.41 20L4 18.59l7.72-7.72 1.47 1.35L5.41 20z\"/>\n",
              "  </svg>\n",
              "      </button>\n",
              "      \n",
              "  <style>\n",
              "    .colab-df-container {\n",
              "      display:flex;\n",
              "      flex-wrap:wrap;\n",
              "      gap: 12px;\n",
              "    }\n",
              "\n",
              "    .colab-df-convert {\n",
              "      background-color: #E8F0FE;\n",
              "      border: none;\n",
              "      border-radius: 50%;\n",
              "      cursor: pointer;\n",
              "      display: none;\n",
              "      fill: #1967D2;\n",
              "      height: 32px;\n",
              "      padding: 0 0 0 0;\n",
              "      width: 32px;\n",
              "    }\n",
              "\n",
              "    .colab-df-convert:hover {\n",
              "      background-color: #E2EBFA;\n",
              "      box-shadow: 0px 1px 2px rgba(60, 64, 67, 0.3), 0px 1px 3px 1px rgba(60, 64, 67, 0.15);\n",
              "      fill: #174EA6;\n",
              "    }\n",
              "\n",
              "    [theme=dark] .colab-df-convert {\n",
              "      background-color: #3B4455;\n",
              "      fill: #D2E3FC;\n",
              "    }\n",
              "\n",
              "    [theme=dark] .colab-df-convert:hover {\n",
              "      background-color: #434B5C;\n",
              "      box-shadow: 0px 1px 3px 1px rgba(0, 0, 0, 0.15);\n",
              "      filter: drop-shadow(0px 1px 2px rgba(0, 0, 0, 0.3));\n",
              "      fill: #FFFFFF;\n",
              "    }\n",
              "  </style>\n",
              "\n",
              "      <script>\n",
              "        const buttonEl =\n",
              "          document.querySelector('#df-ad30e6ce-2dbe-47b4-859f-1dda935d565c button.colab-df-convert');\n",
              "        buttonEl.style.display =\n",
              "          google.colab.kernel.accessAllowed ? 'block' : 'none';\n",
              "\n",
              "        async function convertToInteractive(key) {\n",
              "          const element = document.querySelector('#df-ad30e6ce-2dbe-47b4-859f-1dda935d565c');\n",
              "          const dataTable =\n",
              "            await google.colab.kernel.invokeFunction('convertToInteractive',\n",
              "                                                     [key], {});\n",
              "          if (!dataTable) return;\n",
              "\n",
              "          const docLinkHtml = 'Like what you see? Visit the ' +\n",
              "            '<a target=\"_blank\" href=https://colab.research.google.com/notebooks/data_table.ipynb>data table notebook</a>'\n",
              "            + ' to learn more about interactive tables.';\n",
              "          element.innerHTML = '';\n",
              "          dataTable['output_type'] = 'display_data';\n",
              "          await google.colab.output.renderOutput(dataTable, element);\n",
              "          const docLink = document.createElement('div');\n",
              "          docLink.innerHTML = docLinkHtml;\n",
              "          element.appendChild(docLink);\n",
              "        }\n",
              "      </script>\n",
              "    </div>\n",
              "  </div>\n",
              "  "
            ]
          },
          "metadata": {},
          "execution_count": 131
        }
      ]
    },
    {
      "cell_type": "markdown",
      "source": [
        "After we remove the outlier, there is outlier data in the dataframe. As we can see, the maximum value of Bahasa_Scores now is 89, instead of 500."
      ],
      "metadata": {
        "id": "Qe7xOlItPgjt"
      }
    },
    {
      "cell_type": "code",
      "source": [
        "sns.boxplot(df['Student_id'])"
      ],
      "metadata": {
        "colab": {
          "base_uri": "https://localhost:8080/",
          "height": 352
        },
        "id": "x3zpAxZgQewI",
        "outputId": "c7411498-2c4a-4d56-e05b-03d35906c725"
      },
      "execution_count": null,
      "outputs": [
        {
          "output_type": "stream",
          "name": "stderr",
          "text": [
            "/usr/local/lib/python3.7/dist-packages/seaborn/_decorators.py:43: FutureWarning: Pass the following variable as a keyword arg: x. From version 0.12, the only valid positional argument will be `data`, and passing other arguments without an explicit keyword will result in an error or misinterpretation.\n",
            "  FutureWarning\n"
          ]
        },
        {
          "output_type": "execute_result",
          "data": {
            "text/plain": [
              "<matplotlib.axes._subplots.AxesSubplot at 0x7f3142b2c1d0>"
            ]
          },
          "metadata": {},
          "execution_count": 132
        },
        {
          "output_type": "display_data",
          "data": {
            "text/plain": [
              "<Figure size 432x288 with 1 Axes>"
            ],
            "image/png": "[encoded data removed]"
          },
          "metadata": {
            "needs_background": "light"
          }
        }
      ]
    },
    {
      "cell_type": "markdown",
      "source": [
        "There is no outlier here"
      ],
      "metadata": {
        "id": "V4RoTdnkRJpp"
      }
    },
    {
      "cell_type": "code",
      "source": [
        "sns.boxplot(df['Hours'])"
      ],
      "metadata": {
        "colab": {
          "base_uri": "https://localhost:8080/",
          "height": 351
        },
        "id": "XOwbKGBjQg_8",
        "outputId": "0d3ac352-0aa7-49d9-98df-954e91aa857a"
      },
      "execution_count": null,
      "outputs": [
        {
          "output_type": "stream",
          "name": "stderr",
          "text": [
            "/usr/local/lib/python3.7/dist-packages/seaborn/_decorators.py:43: FutureWarning: Pass the following variable as a keyword arg: x. From version 0.12, the only valid positional argument will be `data`, and passing other arguments without an explicit keyword will result in an error or misinterpretation.\n",
            "  FutureWarning\n"
          ]
        },
        {
          "output_type": "execute_result",
          "data": {
            "text/plain": [
              "<matplotlib.axes._subplots.AxesSubplot at 0x7f3142a95dd0>"
            ]
          },
          "metadata": {},
          "execution_count": 133
        },
        {
          "output_type": "display_data",
          "data": {
            "text/plain": [
              "<Figure size 432x288 with 1 Axes>"
            ],
            "image/png": "[encoded data removed]"
          },
          "metadata": {
            "needs_background": "light"
          }
        }
      ]
    },
    {
      "cell_type": "markdown",
      "source": [
        "There is no outlier here"
      ],
      "metadata": {
        "id": "Vzz3jzhxRLun"
      }
    },
    {
      "cell_type": "code",
      "source": [
        "df.boxplot(column=['Math_Scores','Bahasa_Scores','Social_Scores'])"
      ],
      "metadata": {
        "colab": {
          "base_uri": "https://localhost:8080/",
          "height": 283
        },
        "id": "8B29AaKZPxKV",
        "outputId": "fd3c1d88-88cd-4e37-b537-424a1caa32ea"
      },
      "execution_count": null,
      "outputs": [
        {
          "output_type": "execute_result",
          "data": {
            "text/plain": [
              "<matplotlib.axes._subplots.AxesSubplot at 0x7f3142a68c10>"
            ]
          },
          "metadata": {},
          "execution_count": 134
        },
        {
          "output_type": "display_data",
          "data": {
            "text/plain": [
              "<Figure size 432x288 with 1 Axes>"
            ],
            "image/png": "[encoded data removed]"
          },
          "metadata": {
            "needs_background": "light"
          }
        }
      ]
    },
    {
      "cell_type": "markdown",
      "source": [
        "There is no outlier here"
      ],
      "metadata": {
        "id": "-AtK2ikgRM34"
      }
    },
    {
      "cell_type": "code",
      "source": [
        "fig, ax = plt.subplots(figsize = (8,5))\n",
        "ax.scatter(df['Bahasa_Scores'],df[\"Social_Scores\"])\n",
        "# x-axis label\n",
        "ax.set_xlabel('Bahasa_Scores')\n",
        " \n",
        "# y-axis label\n",
        "ax.set_ylabel('Social_Scores')\n",
        "plt.show()"
      ],
      "metadata": {
        "colab": {
          "base_uri": "https://localhost:8080/",
          "height": 335
        },
        "id": "CGzD3doMQkbN",
        "outputId": "e74ec2ed-d1fc-403d-c1e8-d39bc73f262d"
      },
      "execution_count": null,
      "outputs": [
        {
          "output_type": "display_data",
          "data": {
            "text/plain": [
              "<Figure size 576x360 with 1 Axes>"
            ],
            "image/png": "[encoded data removed]"
          },
          "metadata": {
            "needs_background": "light"
          }
        }
      ]
    },
    {
      "cell_type": "markdown",
      "source": [
        "Its looks like that the higher bahasa score, higher social scores"
      ],
      "metadata": {
        "id": "iPFxgnhLRNY6"
      }
    },
    {
      "cell_type": "code",
      "source": [
        "fig, ax = plt.subplots(figsize = (8,5))\n",
        "ax.scatter(df['Math_Scores'],df[\"Social_Scores\"])\n",
        "# x-axis label\n",
        "ax.set_xlabel('Math_Scores')\n",
        " \n",
        "# y-axis label\n",
        "ax.set_ylabel('Social_Scores')\n",
        "plt.show()"
      ],
      "metadata": {
        "colab": {
          "base_uri": "https://localhost:8080/",
          "height": 335
        },
        "id": "B_DT1BxmQ_kB",
        "outputId": "dc04c6c6-e577-4b80-947f-3b0757b630c9"
      },
      "execution_count": null,
      "outputs": [
        {
          "output_type": "display_data",
          "data": {
            "text/plain": [
              "<Figure size 576x360 with 1 Axes>"
            ],
            "image/png": "[encoded data removed]"
          },
          "metadata": {
            "needs_background": "light"
          }
        }
      ]
    },
    {
      "cell_type": "markdown",
      "source": [
        "Its looks like that the higher math_score, higher social scores"
      ],
      "metadata": {
        "id": "vJsv4cwvRcCG"
      }
    },
    {
      "cell_type": "code",
      "source": [
        "fig, ax = plt.subplots(figsize = (8,5))\n",
        "ax.scatter(df['Math_Scores'],df[\"Bahasa_Scores\"])\n",
        "# x-axis label\n",
        "ax.set_xlabel('Math_Scores')\n",
        " \n",
        "# y-axis label\n",
        "ax.set_ylabel('Bahasa_Scores')\n",
        "plt.show()"
      ],
      "metadata": {
        "colab": {
          "base_uri": "https://localhost:8080/",
          "height": 335
        },
        "id": "v2VDf3NXRBwL",
        "outputId": "2dd9739f-adf0-42c3-df4f-7f8807d26a80"
      },
      "execution_count": null,
      "outputs": [
        {
          "output_type": "display_data",
          "data": {
            "text/plain": [
              "<Figure size 576x360 with 1 Axes>"
            ],
            "image/png": "[encoded data removed]"
          },
          "metadata": {
            "needs_background": "light"
          }
        }
      ]
    },
    {
      "cell_type": "markdown",
      "source": [
        "Its looks like that the higher math scores, higher bahasa scores"
      ],
      "metadata": {
        "id": "_unILujaRa-h"
      }
    }
  ]
}